{
 "cells": [
  {
   "cell_type": "markdown",
   "metadata": {},
   "source": [
    "# Mega Assignment"
   ]
  },
  {
   "cell_type": "markdown",
   "metadata": {},
   "source": [
    "1. Which of the following terms are related to dictionaries?\n",
    "a. value \n",
    "b. item\n",
    "c. index\n",
    "d. key\n",
    "\n",
    "Answer:a, b,d"
   ]
  },
  {
   "cell_type": "markdown",
   "metadata": {},
   "source": [
    "2. Just like lists, + operator is used to extend dictionaries?\n",
    "a. True\n",
    "b. False\n",
    " \n",
    "Answer: False"
   ]
  },
  {
   "cell_type": "markdown",
   "metadata": {},
   "source": [
    "3.  To access items from a dictionary, we specify the index of that item within [] like myDict[0]?\n",
    "a. True\n",
    "b. False \n",
    "\n",
    "Answer: False\n",
    "Reason: myDict[key], not index, is specified to access items from Dictionary"
   ]
  },
  {
   "cell_type": "markdown",
   "metadata": {},
   "source": [
    "4. When we use [] to access the value from a dictionary which does not exist in that dictionary….?\n",
    "a. Value within [] is added to the dictionary\n",
    "b. Value None is returned\n",
    "c. New dictionary is created\n",
    "d. None of above \n",
    "\n",
    "Answer: d. None of the above\n",
    "Reason: KeyError is generated"
   ]
  },
  {
   "cell_type": "markdown",
   "metadata": {},
   "source": [
    "5. What does return the pop method of a dictionary?\n",
    "a. list\n",
    "b. tuple containing the pair of last item of the dictionary \n",
    "c. dictionary\n",
    "d. value of the key, if it exists in the dictionary\n",
    "\n",
    "Answer: d. value of the key, if it exists in the dictionary"
   ]
  },
  {
   "cell_type": "markdown",
   "metadata": {},
   "source": [
    "6. What does return popitem method return?\n",
    "a. dictionary\n",
    "b. tupple containing the pair of last item of the dictionary\n",
    "c. list\n",
    "d. value of key, if it exists in the dictionary\n",
    " \n",
    "Answer: b. tupple containing the pair of last item of the dictionary"
   ]
  },
  {
   "cell_type": "markdown",
   "metadata": {},
   "source": [
    "7. Which of the following 2 methods can be used to iterate through the items of a dictionary?\n",
    "a. items()\n",
    "b. values()\n",
    "c. indexes()\n",
    "d. keys()\n",
    "\n",
    "Answer: a. items() \n",
    "    d. keys()"
   ]
  },
  {
   "cell_type": "markdown",
   "metadata": {},
   "source": [
    "8. Which one of the following is used to enclose a dictionary?\n",
    "a. () parenthesis\n",
    "b. {} curly brackets\n",
    "c. [] square brackets \n",
    "d. “” quotation marks \n",
    "\n",
    "Answer:b. {} curly brackets"
   ]
  },
  {
   "cell_type": "code",
   "execution_count": 1,
   "metadata": {},
   "outputs": [
    {
     "name": "stdout",
     "output_type": "stream",
     "text": [
      "Enter key to be checked: name\n",
      "Enter value to be checked: Python\n",
      "key found\n",
      "Value found\n"
     ]
    }
   ],
   "source": [
    "#9. Write Python Program add key-value pair in dictionary and check if a Given \n",
    "#Key or Value or Both Exists in a Dictionary or Not.\n",
    "dict = {} #empty dictionary\n",
    "dict[\"name\"] = \"Sobia\" #key:value pair added\n",
    "dict[\"fname\"] = \"Pervaiz\"\n",
    "dict[\"course\"] = \"Python\"\n",
    "\n",
    "key = (input(\"Enter key to be checked: \")).lower()\n",
    "value = (input(\"Enter value to be checked: \").capitalize())\n",
    "if key in dict.keys():  #keys checked\n",
    "    print(\"key found\")\n",
    "else:\n",
    "    print(\"Key not found\")\n",
    "\n",
    "if value in dict.values():  #values checked \n",
    "    print(\"Value found\")\n",
    "else:\n",
    "    print(\"Value not found\")"
   ]
  },
  {
   "cell_type": "code",
   "execution_count": 63,
   "metadata": {},
   "outputs": [
    {
     "name": "stdout",
     "output_type": "stream",
     "text": [
      "Enter the string: sobia sobia sobia\n",
      "['sobia', 'sobia', 'sobia']\n",
      "['sobia']\n",
      "['sobia']\n",
      "['sobia']\n",
      "1\n"
     ]
    }
   ],
   "source": [
    "##10. Write a Python Program to Count the Frequency of Words Appearing in a String Using a\n",
    "#Dictionary and print only the words having Even (divisible by 2) frequency.\n",
    "\n",
    "string = input(\"Enter the string: \").split()\n",
    "\n",
    "print(string)\n",
    "d = {}\n",
    "for word in string:\n",
    "    word_list=word.split()\n",
    "    word_frequency = word_list.count(word)\n",
    "    print(word_list)\n",
    "    for i in word_list:\n",
    "        if word_frequency > 1:\n",
    "            d = dict.fromkeys(word_list, word_frequency)\n",
    "            print(d)\n",
    "print(word_frequency) \n",
    "    "
   ]
  },
  {
   "cell_type": "markdown",
   "metadata": {},
   "source": [
    "11. X = [\"Feb\", \"Apr\", \"Mar\", \"May\", \"Jun\", \"Jul\", \"Aug\", \"Jan\"]. What will be output of following?\n",
    "X[0:3]  output: [\"Feb\", \"Apr\", \"Mar\"]\n",
    "    \n",
    "X[2:8]  output:  [\"Mar\", \"May\", \"Jun\", \"Jul\", \"Aug\", \"Jan\"]. \n",
    "X[4:9]   output:  [\"Jun\", \"Jul\", \"Aug\", \"Jan\"]\n",
    "    \n",
    "X[1:7:2]  output: [\"Apr\", \"May\", \"Jul\"]\n",
    "    \n",
    "X[-1:-7]  output: [] #empty list\n",
    "    \n",
    "X[-7:7]  output: ['Apr', 'Mar', 'May', 'Jun', 'Jul', 'Aug']\n",
    "    \n",
    "X[-1:-8:-2]  output: [\"Jan\", \"Jul\", \"May\", \"Apr\"] \n",
    "    \n",
    "X[:4]       output: [\"Feb\", \"Apr\", \"Mar\", \"May\"]"
   ]
  },
  {
   "cell_type": "markdown",
   "metadata": {},
   "source": [
    "12. Remove the correct number from the list X\n",
    "X = [ 9,2,8,4,5]\n",
    "X__?__\n",
    "print (X)\n",
    "Output: [2,8,4,5]\n",
    "1) .delete(9)\n",
    "2) .rm(9) \n",
    "3) .remove(9)\n",
    "\n",
    "Answer: 3) .remove(9)"
   ]
  },
  {
   "cell_type": "markdown",
   "metadata": {},
   "source": [
    "13. p = 3\n",
    "q = 'hello! '\n",
    "print( q __?__ p)\n",
    "hello! hello! hello!\n",
    "1) *\n",
    "2) **\n",
    "3) +\n",
    "\n",
    "Answer: 1) * "
   ]
  },
  {
   "cell_type": "markdown",
   "metadata": {},
   "source": [
    "14. y = \"this is a random sentence\"\n",
    "print (y__?__)\n",
    "Output: THIS IS A RANDOM SENTENCE\n",
    "1) .upper()\n",
    "2) .upcase()\n",
    "3) .capitalize()\n",
    "\n",
    "Answer: 3) .capitalize() "
   ]
  },
  {
   "cell_type": "markdown",
   "metadata": {},
   "source": [
    "15. p = True\n",
    "q = ‘True’\n",
    "r = 2\n",
    "r = 2.0\n",
    "\n",
    "print(type(p))\n",
    "output: Boolean\n",
    "\n",
    "print(type(q))\n",
    "output: string\n",
    "\n",
    "print(type(r))\n",
    "output: integer\n",
    "\n",
    "print(type(s))\n",
    "output: float "
   ]
  },
  {
   "cell_type": "markdown",
   "metadata": {},
   "source": [
    "16. What are the optional arguments to the function?\n",
    "function_1(R1, q, p=None, R2= None)\n",
    "1) q and R2\n",
    "2) p and R2\n",
    "3) p and R1\n",
    "4) R1 and q\n",
    "\n",
    "Answer: 2) p and R2 "
   ]
  },
  {
   "cell_type": "markdown",
   "metadata": {},
   "source": [
    "17. Which command invokes method X() of the object p?\n",
    "1) X(p)\n",
    "2) p$x()\n",
    "3) X().p\n",
    "4) p.x()\n",
    "\n",
    "Answer: 4) p.x() "
   ]
  },
  {
   "cell_type": "markdown",
   "metadata": {},
   "source": [
    "18. X=4 , Y= 2\n",
    "print(X % Y)  output: 0\n",
    "\n",
    "print(X / Y)   output: 2.0\n",
    "\n",
    "print(X // Y)  output: 2\n",
    " \n",
    "print(Y % X) output: 2"
   ]
  },
  {
   "cell_type": "code",
   "execution_count": 4,
   "metadata": {},
   "outputs": [
    {
     "name": "stdout",
     "output_type": "stream",
     "text": [
      "4\n",
      "1\n",
      "1\n",
      "5\n",
      "9\n",
      "0\n"
     ]
    }
   ],
   "source": [
    "#19.a) x = [[4, 1, 1], [5, 9, 0]]\n",
    "#for i in __?__:  \n",
    "#for j in __?__: \n",
    "#?\n",
    "#Output:\n",
    "#4\n",
    "#1\n",
    "#1\n",
    "#5\n",
    "#9\n",
    "#0\n",
    "#Answer:\n",
    "x = [[4, 1, 1], [5, 9, 0]] \n",
    "for i in x:\n",
    "    for j in i :\n",
    "        print(j)"
   ]
  },
  {
   "cell_type": "code",
   "execution_count": 5,
   "metadata": {},
   "outputs": [
    {
     "name": "stdout",
     "output_type": "stream",
     "text": [
      "4 5 \n",
      "1 9 \n",
      "1 0 \n"
     ]
    }
   ],
   "source": [
    "#b) x = [[4, 1, 1], [5, 9, 0]]\n",
    "#for i in ?:\n",
    "##for j in ?:\n",
    "#?\n",
    "#Output: 4 5\n",
    "#1 9\n",
    "#1 0\n",
    "#Answer: \n",
    "x = [[4, 1, 1], [5, 9, 0]]\n",
    "for i in range(3):\n",
    "    for j in x:\n",
    "        print(j[i], end = \" \")\n",
    "    print(\"\")"
   ]
  },
  {
   "cell_type": "code",
   "execution_count": 7,
   "metadata": {},
   "outputs": [
    {
     "name": "stdout",
     "output_type": "stream",
     "text": [
      "4 5 1 9 1 0 "
     ]
    }
   ],
   "source": [
    "#c)  x = [[4, 1, 1], [5, 9, 0]]\n",
    "#for i in ?:\n",
    "#for j in ?:\n",
    "##?\n",
    "#Output: 4 1 1 5 9 0\n",
    "#Answer:\n",
    "x = [[4, 1, 1], [5, 9, 0]]\n",
    "for i in range(3):\n",
    "    for j in x:\n",
    "        print(j[i], end = \" \")"
   ]
  },
  {
   "cell_type": "code",
   "execution_count": 8,
   "metadata": {},
   "outputs": [
    {
     "name": "stdout",
     "output_type": "stream",
     "text": [
      "4 1 1  \n",
      "5 9 0  \n"
     ]
    }
   ],
   "source": [
    "#d)- x = [[4, 1, 1], [5, 9, 0]]\n",
    "##for i in ?:\n",
    "#for j in ?:\n",
    "#?\n",
    "#Output: 4 1 1\n",
    "#5 9 0\n",
    "#Answer:\n",
    "x = [[4, 1, 1], [5, 9, 0]]\n",
    "for i in x:\n",
    "    for j in i:\n",
    "        print(j, end = \" \")\n",
    "    print(\" \")"
   ]
  },
  {
   "cell_type": "markdown",
   "metadata": {},
   "source": [
    "20- q = [10.62, 16.14, 6.45, 17.11]\n",
    "for ?, z in enumerate (q) :\n",
    "print( ‘Item ‘ + str( j ) + ‘ - ‘, str ( z ))\n",
    "Output: Item 0 – 10.62\n",
    "Item 1 – 16.14\n",
    "Item 2 – 6.45\n",
    "Item 3 – 17.11\n",
    "1) z\n",
    "2) i\n",
    "3) j\n",
    "4) x\n",
    "5) k\n",
    "6) y\n",
    "Answer: 3) j is the correct answer"
   ]
  },
  {
   "cell_type": "markdown",
   "metadata": {},
   "source": [
    "21- Which of these about a dictionary is false?\n",
    "a) The values of a dictionary can be accessed using keys\n",
    "b) The keys of a dictionary can be accessed using values\n",
    "c) Dictionaries aren’t ordered\n",
    "d) Dictionaries are mutable\n",
    "\n",
    "Answer: b) The keys of a dictionary can be accessed using values"
   ]
  },
  {
   "cell_type": "markdown",
   "metadata": {},
   "source": [
    "22- What is the output of the following:\n",
    "D = dict()\n",
    "for i in range (3):\n",
    "for j in range(2):\n",
    "D[i] = j\n",
    "a. {0: 1, 1: 1, 2: 1}\n",
    "b. {1: 0, 1: 1, 1: 2}\n",
    "c. {0: 1, 1: 2, 2: 3}\n",
    "d. {1: 2, 1: 1, 1: 0}\n",
    "\n",
    "Answer:a. {0: 1, 1: 1, 2: 1}"
   ]
  },
  {
   "cell_type": "markdown",
   "metadata": {},
   "source": [
    "23- You are writing a function that increments player score in a soccer game\n",
    "\n",
    "If no value is specified for points, then point must start with 1\n",
    "If no value is specified for bonus, then bonus should be True\n",
    "\n",
    "01 def increment_score ( bonus , score , points ):\n",
    "\n",
    "To meet the first requirement line 01 must be change to\n",
    "q def increment_score ( bonus , score , points = 1 ): (True or False)\n",
    "\n",
    "To meet the second requirement line 01 must be change to\n",
    "q def increment_score ( bonus = True , score , points = 1 ): (True or False)\n",
    "\n",
    "q Once a parameter is defined with default value, any parameter to the right must also \n",
    "be defined with default values (True or False)\n",
    "\n",
    "Answer:\n",
    "\n",
    "To meet the first requirement line 01 must be change to\n",
    "q def increment_score ( bonus , score , points = 1 ): True\n",
    "Reason: Default value is assigned\n",
    "\n",
    "To meet the second requirement line 01 must be change to\n",
    "q def increment_score ( bonus = True , score , points = 1 ):  False\n",
    "Reason: It will generate error\n",
    "\n",
    "q Once a parameter is defined with default value, any parameter to the right \n",
    "must also be defined with default values :True \n",
    "Reason: Default arguments should follow positional arguments"
   ]
  },
  {
   "cell_type": "code",
   "execution_count": 9,
   "metadata": {},
   "outputs": [
    {
     "name": "stdout",
     "output_type": "stream",
     "text": [
      "11.333333333333334\n"
     ]
    }
   ],
   "source": [
    "#24- What will be output?\n",
    "def avg ( x , y , z = 50 ):\n",
    "    adding = x + y + z\n",
    "    avg_value = adding / 3\n",
    "    return avg_value\n",
    "y = avg ( x = 5 , y = 9 , z = 20 )\n",
    "print(y)"
   ]
  },
  {
   "cell_type": "markdown",
   "metadata": {},
   "source": [
    "25- What will be output? Describe it with reason and logic behind.\n",
    "Do multiple experiments with arguments / parameters to remove error, if occurs.\n",
    "\n",
    "def avg ( *opt_values , name ):\n",
    "avg_value = sum (opt_values) / len(opt_values)\n",
    "print(‘name is: ’ + name + ‘Marks:  ’ + str(avg_value))\n",
    "avg ( 5 , 9 , 20, 34, 87, 112 , ‘Ali’ )\n",
    "\n",
    "Answer:\n",
    "Logic: The above function will give TypeError as \"Ali\" in \n",
    "function call is also considered as opt_values, so the function call should be changed to\n",
    "avg ( 5 , 9 , 20, 34, 87, 112, name = \"Ali\"  ) \n",
    "\n",
    "Output:  name is: AliMarks:  44.5"
   ]
  },
  {
   "cell_type": "code",
   "execution_count": 12,
   "metadata": {},
   "outputs": [
    {
     "ename": "TypeError",
     "evalue": "avg() missing 1 required keyword-only argument: 'name'",
     "output_type": "error",
     "traceback": [
      "\u001b[1;31m---------------------------------------------------------------------------\u001b[0m",
      "\u001b[1;31mTypeError\u001b[0m                                 Traceback (most recent call last)",
      "\u001b[1;32m<ipython-input-12-992fd2a8b336>\u001b[0m in \u001b[0;36m<module>\u001b[1;34m\u001b[0m\n\u001b[0;32m      3\u001b[0m     \u001b[0mprint\u001b[0m\u001b[1;33m(\u001b[0m\u001b[1;34m\"name is: \"\u001b[0m \u001b[1;33m+\u001b[0m \u001b[0mname\u001b[0m \u001b[1;33m+\u001b[0m \u001b[1;34m\"Marks:  \"\u001b[0m \u001b[1;33m+\u001b[0m \u001b[0mstr\u001b[0m\u001b[1;33m(\u001b[0m\u001b[0mavg_value\u001b[0m\u001b[1;33m)\u001b[0m\u001b[1;33m)\u001b[0m\u001b[1;33m\u001b[0m\u001b[1;33m\u001b[0m\u001b[0m\n\u001b[0;32m      4\u001b[0m \u001b[1;33m\u001b[0m\u001b[0m\n\u001b[1;32m----> 5\u001b[1;33m \u001b[0mavg\u001b[0m \u001b[1;33m(\u001b[0m \u001b[1;36m5\u001b[0m \u001b[1;33m,\u001b[0m \u001b[1;36m9\u001b[0m \u001b[1;33m,\u001b[0m \u001b[1;36m20\u001b[0m\u001b[1;33m,\u001b[0m \u001b[1;36m34\u001b[0m\u001b[1;33m,\u001b[0m \u001b[1;36m87\u001b[0m\u001b[1;33m,\u001b[0m \u001b[1;36m112\u001b[0m \u001b[1;33m,\u001b[0m \u001b[1;34m\"Ali\"\u001b[0m \u001b[1;33m)\u001b[0m\u001b[1;33m\u001b[0m\u001b[1;33m\u001b[0m\u001b[0m\n\u001b[0m",
      "\u001b[1;31mTypeError\u001b[0m: avg() missing 1 required keyword-only argument: 'name'"
     ]
    }
   ],
   "source": [
    "def avg ( *opt_values , name ):\n",
    "    avg_value = sum (opt_values) / len(opt_values)\n",
    "    print(\"name is: \" + name + \"Marks:  \" + str(avg_value))\n",
    "\n",
    "avg ( 5 , 9 , 20, 34, 87, 112 , \"Ali\" )"
   ]
  },
  {
   "cell_type": "markdown",
   "metadata": {},
   "source": [
    "26- Final output is not required. Just take copy pencil, \n",
    "think and write the output of each line, write down the link between parameters and arguments. \n",
    "Remove one or two ** from other_info and observe the ouput.\n",
    "\n",
    "def display_result(winner, score, **other_info):\n",
    "    print(\"The winner was \" + winner)\n",
    "    print(\"The score was \" + score)\n",
    "\n",
    "display_result(winner=“Manchester\", score=\"1-0\", overtime =\"yes\", injuries=\"none\")\n",
    "\n",
    "Answer:\n",
    "Output: The winner was Manchester\n",
    "The score was 1-0\n",
    "Reason: ** allows to add multiple arguments to function at the time of function call. \n",
    "If * is removed, the code will generate TypeError."
   ]
  },
  {
   "cell_type": "code",
   "execution_count": 14,
   "metadata": {},
   "outputs": [
    {
     "name": "stdout",
     "output_type": "stream",
     "text": [
      "The winner was Manchester\n",
      "The score was 1-0\n"
     ]
    }
   ],
   "source": [
    "def display_result(winner, score, **other_info):\n",
    "    print(\"The winner was \" + winner)\n",
    "    print(\"The score was \" + score)\n",
    "\n",
    "display_result(winner=\"Manchester\", score=\"1-0\", overtime =\"yes\", injuries=\"none\")"
   ]
  },
  {
   "cell_type": "markdown",
   "metadata": {},
   "source": [
    "27- The position of parameters and arguments is re-arranged. \n",
    "Just think and find the logic behind output or error.\n",
    "\n",
    "def display_result(winner, **other_info, score):\n",
    "    print(\"The winner was \" + winner)\n",
    "    print(\"The score was \" + score)\n",
    "\n",
    "    \n",
    "display_result(winner=“Manchester\", overtime =\"yes\", injuries=\"none“ , score=\"1-0“ )\n",
    "\n",
    "Answer:\n",
    "Output: Error generated\n",
    "Reason: score is a positional argument and should be defined before key-word arguments **other_info"
   ]
  },
  {
   "cell_type": "code",
   "execution_count": 15,
   "metadata": {},
   "outputs": [
    {
     "ename": "SyntaxError",
     "evalue": "invalid syntax (<ipython-input-15-9e4ce80316c7>, line 1)",
     "output_type": "error",
     "traceback": [
      "\u001b[1;36m  File \u001b[1;32m\"<ipython-input-15-9e4ce80316c7>\"\u001b[1;36m, line \u001b[1;32m1\u001b[0m\n\u001b[1;33m    def display_result(winner, **other_info, score):\u001b[0m\n\u001b[1;37m                                                 ^\u001b[0m\n\u001b[1;31mSyntaxError\u001b[0m\u001b[1;31m:\u001b[0m invalid syntax\n"
     ]
    }
   ],
   "source": [
    "def display_result(winner, **other_info, score):\n",
    "    print(\"The winner was \" + winner)\n",
    "    print(\"The score was \" + score)\n",
    "\n",
    "    \n",
    "display_result(winner=“Manchester\", overtime =\"yes\", injuries=\"none\" , score=\"1-0\" )"
   ]
  },
  {
   "cell_type": "markdown",
   "metadata": {},
   "source": [
    "28- What will be the output of the following Python expression if X=123?\n",
    "print(“%06d”%X)\n",
    "a) 123000\n",
    "b) 000123\n",
    "c) 000000123\n",
    "d) 123000000\n",
    "Reason: adds three zero's to the left of X to make length 6."
   ]
  },
  {
   "cell_type": "code",
   "execution_count": 18,
   "metadata": {},
   "outputs": [
    {
     "name": "stdout",
     "output_type": "stream",
     "text": [
      "000123\n"
     ]
    }
   ],
   "source": [
    "print(\"%06d\"%123)"
   ]
  },
  {
   "cell_type": "markdown",
   "metadata": {},
   "source": [
    "29- What will be the output of the following Python expression if x=22.19?\n",
    "print(\"%5.2f\"%x)\n",
    "a) 22.1900\n",
    "b) 22.00000\n",
    "c) 22.19\n",
    "d) 22.20"
   ]
  },
  {
   "cell_type": "code",
   "execution_count": 19,
   "metadata": {},
   "outputs": [
    {
     "name": "stdout",
     "output_type": "stream",
     "text": [
      "22.19\n"
     ]
    }
   ],
   "source": [
    "print(\"%5.2f\"%22.19)"
   ]
  },
  {
   "cell_type": "markdown",
   "metadata": {},
   "source": [
    "30- What will be the output of the following Python code?\n",
    "'{0:f}, {1:2f}, {2:05.2f}'.format(1.23456, 1.23456, 1.23456)\n",
    "a) Error\n",
    "b) ‘1.234560, 1.22345, 1.23’\n",
    "c) No output\n",
    "d) ‘1.234560, 1.234560, 01.23’\n",
    "\n",
    "Answer: d) ‘1.234560, 1.234560, 01.23’"
   ]
  },
  {
   "cell_type": "code",
   "execution_count": 20,
   "metadata": {},
   "outputs": [
    {
     "data": {
      "text/plain": [
       "'1.234560, 1.234560, 01.23'"
      ]
     },
     "execution_count": 20,
     "metadata": {},
     "output_type": "execute_result"
    }
   ],
   "source": [
    "'{0:f}, {1:2f}, {2:05.2f}'.format(1.23456, 1.23456, 1.23456)"
   ]
  },
  {
   "cell_type": "markdown",
   "metadata": {},
   "source": [
    "31- Write down the output of each line after each iterations. Do multiple experiments to change values\n",
    "i = 1  # counter\n",
    "while False:  #condition = False, loop will not run\n",
    "if i%2 == 0:   \n",
    "break    #breaks for even number\n",
    "print(i)   #prints counter\n",
    "i += 2   #increment by 2 steps\n",
    "Answer:\n",
    "Output: This code prints nothing being the False condition. \n",
    "If the indentation of print(i) is changed to outside the while loop(since indentation is not clear in code), \n",
    "then it prints 1 as output.\n",
    "If False is changed to True, then infinite loop runs as the condition is never break. as i=1,3,5,..."
   ]
  },
  {
   "cell_type": "code",
   "execution_count": 21,
   "metadata": {},
   "outputs": [],
   "source": [
    "i = 1  # counter\n",
    "while False:  #condition = False, loop will not run\n",
    "    if i%2 == 0:   \n",
    "        break    #breaks for even number\n",
    "    print(i)   #prints counter\n",
    "    i += 2   #increment by 2 steps"
   ]
  },
  {
   "cell_type": "markdown",
   "metadata": {},
   "source": [
    "32- Write down the output of each line after each iterations. Do multiple experiments to change values\n",
    "x = \"abcdef\"  #string value assigned to x\n",
    "i = \"a\"     #substring assigned to i\n",
    "while i in x:\n",
    "x = x[:-1]  #removes last alphabet from x\n",
    "print(i, end = \" \")  # prints a\n",
    "Output: a a a a a a\n",
    "Reason: loop runs until a is removed from string"
   ]
  },
  {
   "cell_type": "code",
   "execution_count": 22,
   "metadata": {},
   "outputs": [
    {
     "name": "stdout",
     "output_type": "stream",
     "text": [
      "a a a a a a "
     ]
    }
   ],
   "source": [
    "x = \"abcdef\"  #string value assigned to x\n",
    "i = \"a\"     #substring assigned to i\n",
    "while i in x:\n",
    "    x = x[:-1]  #removes last alphabet from x\n",
    "    print(i, end = \" \")  # prints a\n"
   ]
  },
  {
   "cell_type": "markdown",
   "metadata": {},
   "source": [
    "33- Write down the output of each line after each iterations. Do multiple experiments to change values\n",
    "\n",
    "for i in ''.join(reversed(list('abcd'))):# converts string values into list, reverses the order in descending, \n",
    "                                          #joins each element of the list with string\n",
    "    print (i)  #prints each element of the list\n",
    "Answer: \n",
    "Output:\n",
    "d\n",
    "c\n",
    "b\n",
    "a"
   ]
  },
  {
   "cell_type": "code",
   "execution_count": 23,
   "metadata": {},
   "outputs": [
    {
     "name": "stdout",
     "output_type": "stream",
     "text": [
      "d\n",
      "c\n",
      "b\n",
      "a\n"
     ]
    }
   ],
   "source": [
    "for i in ''.join(reversed(list('abcd'))):\n",
    "    print (i) "
   ]
  },
  {
   "cell_type": "markdown",
   "metadata": {},
   "source": [
    "34- Flow of the program. Write the output of each line after every iteration of ‘i’\n",
    "for i in range(10):\n",
    "if i == 5:\n",
    "break\n",
    "else:\n",
    "print(i)\n",
    "else:\n",
    "print(\"Here\")​\n",
    "\n",
    "Answer:\n",
    "Output:\n",
    "0\n",
    "1\n",
    "2\n",
    "3\n",
    "4\n",
    "\n",
    "Reason: at i = 5, condition becomes False and breaks the loop. \n",
    "Last else is not executed as the whole loop has not been executed\n"
   ]
  },
  {
   "cell_type": "code",
   "execution_count": 27,
   "metadata": {},
   "outputs": [
    {
     "name": "stdout",
     "output_type": "stream",
     "text": [
      "0\n",
      "1\n",
      "2\n",
      "3\n",
      "4\n"
     ]
    }
   ],
   "source": [
    "for i in range(10):\n",
    "    if i == 5:\n",
    "        break\n",
    "    else:\n",
    "        print(i)\n",
    "else:\n",
    "    print(\"Here\")"
   ]
  },
  {
   "cell_type": "code",
   "execution_count": 29,
   "metadata": {},
   "outputs": [
    {
     "name": "stdout",
     "output_type": "stream",
     "text": [
      "48\n"
     ]
    }
   ],
   "source": [
    "#35- What is the output? And understand the functionality of lambda function\n",
    "y = 6\n",
    "z = lambda x: x * y\n",
    "print(z(8))"
   ]
  },
  {
   "cell_type": "code",
   "execution_count": 33,
   "metadata": {},
   "outputs": [
    {
     "name": "stdout",
     "output_type": "stream",
     "text": [
      "0\n"
     ]
    }
   ],
   "source": [
    "#36- Write output and give proper logic of whatever the output comes.\n",
    "i=0\n",
    "def change(i):\n",
    "    i=i+1\n",
    "    return i\n",
    "\n",
    "change(1)#function call with i = 1 \n",
    "print(i)  #prints global variable"
   ]
  },
  {
   "cell_type": "code",
   "execution_count": 35,
   "metadata": {},
   "outputs": [
    {
     "name": "stdout",
     "output_type": "stream",
     "text": [
      "2\n"
     ]
    },
    {
     "data": {
      "text/plain": [
       "2"
      ]
     },
     "execution_count": 35,
     "metadata": {},
     "output_type": "execute_result"
    }
   ],
   "source": [
    "#if we removed print(i) then the output is 2.\n",
    "i=0\n",
    "def change(i):\n",
    "    i=i+1\n",
    "    print(i)\n",
    "    return i\n",
    "\n",
    "change(1)"
   ]
  },
  {
   "cell_type": "code",
   "execution_count": 42,
   "metadata": {},
   "outputs": [
    {
     "name": "stdout",
     "output_type": "stream",
     "text": [
      "<class 'tuple'>\n",
      "(2, 3, 4)\n"
     ]
    }
   ],
   "source": [
    "#40- What will be output? Define this output clearly\n",
    "def change(one, *two):  #'one' is mandatory parameter in function definition,'two' takes multiple arguments in the form of tuple\n",
    "    print(type(two)) #type = tuple\n",
    "    print(two)\n",
    "\n",
    "change(1,2,3,4)  #'one' = 1,'two' = 2, 3, 4"
   ]
  },
  {
   "cell_type": "code",
   "execution_count": 41,
   "metadata": {},
   "outputs": [
    {
     "name": "stdout",
     "output_type": "stream",
     "text": [
      "<class 'dict'>\n",
      "{'A': '1', 'B': '2'}\n",
      "letters\n"
     ]
    }
   ],
   "source": [
    "#41- What will be output? Define this output clearly\n",
    "def find(a, **b):  #** takes input in the form of dictionary\n",
    "    print(type(b)) #type = dictionary\n",
    "    print(b)\n",
    "    print(a)\n",
    "\n",
    "find('letters',A='1',B='2')"
   ]
  },
  {
   "cell_type": "code",
   "execution_count": 44,
   "metadata": {},
   "outputs": [
    {
     "name": "stdout",
     "output_type": "stream",
     "text": [
      "[0]\n",
      "[0, 1]\n",
      "[0, 1, 2]\n"
     ]
    }
   ],
   "source": [
    "#42- Write output and define each line’s output for each iteration of ‘i’\n",
    "def foo(i, x=[]): # parameter x is a list\n",
    "    x.append(i)  #appends the values of i to the list x\n",
    "    return x     #returns x\n",
    "for i in range(3):  \n",
    "    print(foo(i))  #function call with i = 0, 1, 2  \n",
    "# output is list x"
   ]
  },
  {
   "cell_type": "code",
   "execution_count": 50,
   "metadata": {},
   "outputs": [
    {
     "data": {
      "text/plain": [
       "-10621"
      ]
     },
     "execution_count": 50,
     "metadata": {},
     "output_type": "execute_result"
    }
   ],
   "source": [
    "#43- Evaluate the following Python arithmetic expression: \n",
    "# and write which segment will execute first? \n",
    "#(Brackets, Exponents, Multiplication, Addition / Subtraction, Left to right rule)\n",
    "\n",
    "(3*(1+2)**2-(22)**3)\n",
    "#PEMDAS\n",
    "# (1 + 2) = 3\n",
    "#22**3 = 10648 and 3**2 =9\n",
    "#3*(9) =27\n",
    "# 27 - 10648\n",
    "# -10630"
   ]
  },
  {
   "cell_type": "markdown",
   "metadata": {},
   "source": [
    "45- You are writing code that generates a random integer with a minimum value of 5 and a maximum value of 11.\n",
    "Which two functions should you use? Each correct answer presents a complete solution. (Choose two.)\n",
    "A. random.randint(5, 12)\n",
    "B. random.randint(5, 11)\n",
    "C. random.randrange(5, 12, 1)\n",
    "D. random.randrange(5, 11, 1)\n",
    "\n",
    "Answer: it generates error"
   ]
  },
  {
   "cell_type": "markdown",
   "metadata": {},
   "source": [
    "46- Write a program that receives marks from user and check the grade.\n",
    "Marks greater than equal to 90 then A grade\n",
    "Marks between 80 to 90, B grade\n",
    "Marks between 70 to 80, C grade\n",
    "Marks between 60 to 70, D grade\n",
    "Marks less than equal to 60 then E grade"
   ]
  },
  {
   "cell_type": "code",
   "execution_count": 57,
   "metadata": {},
   "outputs": [
    {
     "name": "stdout",
     "output_type": "stream",
     "text": [
      "Enter Marks55\n",
      "Grade E\n"
     ]
    }
   ],
   "source": [
    "marks = int(input(\"Enter Marks\"))\n",
    "if marks >= 90:\n",
    "    print(\"Grade A\")\n",
    "elif marks >=80:\n",
    "    print(\"Grade B\")\n",
    "elif marks >=70:\n",
    "    print(\"Grade C\")\n",
    "elif marks >=60:\n",
    "    print(\"Grade D\")\n",
    "else:\n",
    "    print(\"Grade E\")"
   ]
  },
  {
   "cell_type": "code",
   "execution_count": null,
   "metadata": {},
   "outputs": [],
   "source": []
  }
 ],
 "metadata": {
  "kernelspec": {
   "display_name": "Python 3",
   "language": "python",
   "name": "python3"
  },
  "language_info": {
   "codemirror_mode": {
    "name": "ipython",
    "version": 3
   },
   "file_extension": ".py",
   "mimetype": "text/x-python",
   "name": "python",
   "nbconvert_exporter": "python",
   "pygments_lexer": "ipython3",
   "version": "3.7.4"
  }
 },
 "nbformat": 4,
 "nbformat_minor": 2
}
